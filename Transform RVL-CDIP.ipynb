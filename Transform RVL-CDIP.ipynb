{
 "cells": [
  {
   "cell_type": "code",
   "execution_count": 5,
   "metadata": {},
   "outputs": [],
   "source": [
    "tdataset = 'T3482'\n",
    "rdataset = 'RVLCDIP'\n",
    "idataset = 'INTERNAL'\n",
    "\n",
    "dataset_options = [ \n",
    "                     tdataset,\n",
    "                     rdataset,\n",
    "                     idataset\n",
    "    \n",
    "                  ]\n",
    "def get_original_full_images_directory(dataset):\n",
    "  return 'C:\\\\Users\\\\interdrift\\\\Desktop\\\\rvl\\\\'+ dataset + '\\\\Original Dataset\\\\Actual Images'"
   ]
  },
  {
   "cell_type": "code",
   "execution_count": 6,
   "metadata": {},
   "outputs": [
    {
     "data": {
      "text/plain": [
       "'C:\\\\Users\\\\interdrift\\\\Desktop\\\\rvl\\\\RVLCDIP\\\\Original Dataset\\\\Actual Images'"
      ]
     },
     "execution_count": 6,
     "metadata": {},
     "output_type": "execute_result"
    }
   ],
   "source": []
  },
  {
   "cell_type": "code",
   "execution_count": 56,
   "metadata": {},
   "outputs": [
    {
     "name": "stdout",
     "output_type": "stream",
     "text": [
      "whoops\n",
      "40000\n",
      "whoops\n",
      "320000\n",
      "whoops\n",
      "40000\n",
      "16\n",
      "25000\n"
     ]
    }
   ],
   "source": [
    "def compose(dataset):\n",
    "    with open('C:\\\\Users\\\\interdrift\\\\Desktop\\\\rvl\\\\labels\\\\' +dataset +\".txt\") as fh:\n",
    "        sets = (fh.read().split('\\n'))\n",
    "        dt = {}\n",
    "        for row in sets:\n",
    "            try:\n",
    "                kv = row.split(' ')\n",
    "                key = kv[0]\n",
    "                val = kv[1]\n",
    "                dt[key] = (val)\n",
    "            except:\n",
    "                print('whoops')\n",
    "        print(len(dt))\n",
    "        return dt\n",
    "            \n",
    "\n",
    "            \n",
    "test = compose('test')\n",
    "train = compose('train')\n",
    "val = compose('val')\n",
    "mg = {**test, **train, **val}\n",
    "\n",
    "merged = {}\n",
    "for item in mg:\n",
    "    if not mg[item] in merged:\n",
    "        merged[mg[item]] = []\n",
    "        \n",
    "    merged[(mg[item])].append(item)\n",
    "print(len(merged))\n",
    "print(len(merged['0']))"
   ]
  },
  {
   "cell_type": "code",
   "execution_count": null,
   "metadata": {},
   "outputs": [],
   "source": [
    "import os\n",
    "from shutil import copyfile\n",
    "\n",
    "classes = [\n",
    "    'letter',\n",
    "    'form',\n",
    "    'email',\n",
    "    'handwritten',\n",
    "    'advertisement',\n",
    "    'scientific report',\n",
    "    'scientific publication',\n",
    "    'specification',\n",
    "    'file folder',\n",
    "    'news article',\n",
    "    'budget',\n",
    "    'invoice',\n",
    "    'presentation',\n",
    "    'questionnaire',\n",
    "    'resume',\n",
    "    'memo'\n",
    "]\n",
    "\n",
    "for category in merged:\n",
    "    # save directory is here\n",
    "    real_cat = classes[int(category)]\n",
    "    target = 'D:\\\\rvl' + '\\\\' + real_cat + \"\\\\\"\n",
    "    for item in merged[category]:\n",
    "        path = 'C:\\\\Users\\\\interdrift\\\\Desktop\\\\rvl\\\\RVLCDIP\\\\' + item\n",
    "        base_name = os.path.basename(path)\n",
    "        if not os.path.isdir(target):\n",
    "            os.makedirs(target)\n",
    "            \n",
    "        copyfile(path, target + base_name)"
   ]
  },
  {
   "cell_type": "code",
   "execution_count": null,
   "metadata": {},
   "outputs": [],
   "source": []
  }
 ],
 "metadata": {
  "kernelspec": {
   "display_name": "TensorFlow-GPU-1.13",
   "language": "python",
   "name": "tf-gpu"
  },
  "language_info": {
   "codemirror_mode": {
    "name": "ipython",
    "version": 3
   },
   "file_extension": ".py",
   "mimetype": "text/x-python",
   "name": "python",
   "nbconvert_exporter": "python",
   "pygments_lexer": "ipython3",
   "version": "3.7.7"
  }
 },
 "nbformat": 4,
 "nbformat_minor": 4
}
